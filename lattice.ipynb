{
 "cells": [
  {
   "cell_type": "code",
   "execution_count": 1,
   "id": "noticed-proportion",
   "metadata": {},
   "outputs": [],
   "source": [
    "from pymatgen import Structure\n",
    "from jupyter_jsmol.pymatgen import quick_view\n",
    "from pymatgen.ext.matproj import MPRester\n",
    "from pymatgen.symmetry.analyzer import SpacegroupAnalyzer"
   ]
  },
  {
   "cell_type": "code",
   "execution_count": 2,
   "id": "functioning-providence",
   "metadata": {},
   "outputs": [],
   "source": [
    "with MPRester(\"facKDsz6VWnDbALnDd\") as m:\n",
    "    structure = m.get_structure_by_material_id(\"mp-9089\")"
   ]
  },
  {
   "cell_type": "code",
   "execution_count": 3,
   "id": "specialized-denial",
   "metadata": {},
   "outputs": [
    {
     "data": {
      "application/vnd.jupyter.widget-view+json": {
       "model_id": "d09a9a3e884241e6bbdbecabaaf46068",
       "version_major": 2,
       "version_minor": 0
      },
      "text/plain": [
       "JsmolView(layout=Layout(align_self='stretch', height='400px'))"
      ]
     },
     "metadata": {},
     "output_type": "display_data"
    }
   ],
   "source": [
    "view = quick_view(structure)\n",
    "display(view)"
   ]
  },
  {
   "cell_type": "code",
   "execution_count": 13,
   "id": "wrapped-preserve",
   "metadata": {},
   "outputs": [
    {
     "name": "stdout",
     "output_type": "stream",
     "text": [
      "Vecteurs des base du réseau direct de la strucutre:\n",
      "\n",
      "Normes en Ångström:\n",
      "\n",
      "a = 8.375098527922162\n",
      "b = 8.375098527922162\n",
      "c = 8.375097723396486 \n",
      "\n",
      "Angles en °:\n",
      "\n",
      "alpha 28.018337438979472\n",
      "beta 28.018337438979472\n",
      "gamma 28.018336097161466\n"
     ]
    }
   ],
   "source": [
    "vecteurs = structure.lattice\n",
    "normes = vecteurs.abc\n",
    "angles = vecteurs.angles\n",
    "print(\"Vecteurs des base du réseau direct de la strucutre:\\n\")\n",
    "print(\"Normes en Ångström:\\n\")\n",
    "print(\"a =\",normes[0])\n",
    "print(\"b =\",normes[1])\n",
    "print(\"c =\",normes[2],\"\\n\")\n",
    "print(\"Angles en °:\\n\")\n",
    "print(\"alpha\",angles[0])\n",
    "print(\"beta\",angles[1])\n",
    "print(\"gamma\",angles[2])"
   ]
  },
  {
   "cell_type": "code",
   "execution_count": 12,
   "id": "normal-registration",
   "metadata": {},
   "outputs": [
    {
     "name": "stdout",
     "output_type": "stream",
     "text": [
      "Vecteurs des base du réseau réciproque de la strucutre:\n",
      "\n",
      "Normes en Ångström:\n",
      "\n",
      "a* = 1.8081258750463978\n",
      "b* = 1.8081258750463975\n",
      "c* = 1.808125969160487 \n",
      "\n",
      "Angles en °:\n",
      "\n",
      "alpha 117.96131814262812\n",
      "beta 117.96131814262812\n",
      "gamma 117.9613228928868\n"
     ]
    }
   ],
   "source": [
    "vecteurs_r = structure.lattice.reciprocal_lattice\n",
    "normes_r = vecteurs_r.abc\n",
    "angles_r = vecteurs_r.angles\n",
    "print(\"Vecteurs des base du réseau réciproque de la strucutre:\\n\")\n",
    "print(\"Normes en Ångström:\\n\")\n",
    "print(\"a* =\",normes_r[0])\n",
    "print(\"b* =\",normes_r[1])\n",
    "print(\"c* =\",normes_r[2],\"\\n\")\n",
    "print(\"Angles en °:\\n\")\n",
    "print(\"alpha\",angles_r[0])\n",
    "print(\"beta\",angles_r[1])\n",
    "print(\"gamma\",angles_r[2])"
   ]
  },
  {
   "cell_type": "code",
   "execution_count": 16,
   "id": "anonymous-dealing",
   "metadata": {},
   "outputs": [
    {
     "name": "stdout",
     "output_type": "stream",
     "text": [
      "Type de maille: rhombohedral\n"
     ]
    }
   ],
   "source": [
    "maille = SpacegroupAnalyzer(structure).get_lattice_type()\n",
    "print(\"Type de maille:\", maille )"
   ]
  },
  {
   "cell_type": "code",
   "execution_count": 18,
   "id": "worthy-dover",
   "metadata": {},
   "outputs": [
    {
     "name": "stdout",
     "output_type": "stream",
     "text": [
      "Système cristallin : trigonal\n"
     ]
    }
   ],
   "source": [
    "systeme = SpacegroupAnalyzer(structure).get_crystal_system()\n",
    "print(\"Système cristallin :\", systeme)"
   ]
  },
  {
   "cell_type": "code",
   "execution_count": 19,
   "id": "operational-association",
   "metadata": {},
   "outputs": [
    {
     "name": "stdout",
     "output_type": "stream",
     "text": [
      "Groupe ponctuel : -3m\n"
     ]
    }
   ],
   "source": [
    "groupe = SpacegroupAnalyzer(structure).get_point_group_symbol()\n",
    "print(\"Groupe ponctuel :\", groupe)"
   ]
  },
  {
   "cell_type": "code",
   "execution_count": null,
   "id": "worth-macedonia",
   "metadata": {},
   "outputs": [],
   "source": []
  }
 ],
 "metadata": {
  "kernelspec": {
   "display_name": "Python 3",
   "language": "python",
   "name": "python3"
  },
  "language_info": {
   "codemirror_mode": {
    "name": "ipython",
    "version": 3
   },
   "file_extension": ".py",
   "mimetype": "text/x-python",
   "name": "python",
   "nbconvert_exporter": "python",
   "pygments_lexer": "ipython3",
   "version": "3.6.8"
  }
 },
 "nbformat": 4,
 "nbformat_minor": 5
}
