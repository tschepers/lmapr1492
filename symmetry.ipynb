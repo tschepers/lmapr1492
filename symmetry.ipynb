{
 "cells": [
  {
   "cell_type": "code",
   "execution_count": 85,
   "id": "least-straight",
   "metadata": {},
   "outputs": [],
   "source": [
    "from pymatgen import Structure\n",
    "from pymatgen.ext.matproj import MPRester\n",
    "from pymatgen.core.operations import SymmOp\n",
    "from pymatgen.symmetry.site_symmetries import *\n",
    "from pymatgen.symmetry.analyzer import SpacegroupAnalyzer\n",
    "from jupyter_jsmol.pymatgen import quick_view"
   ]
  },
  {
   "cell_type": "code",
   "execution_count": 86,
   "id": "pleased-ridge",
   "metadata": {},
   "outputs": [],
   "source": [
    "with MPRester(\"facKDsz6VWnDbALnDd\") as m:\n",
    "    structure = m.get_structure_by_material_id(\"mp-9089\")"
   ]
  },
  {
   "cell_type": "code",
   "execution_count": 87,
   "id": "rental-telling",
   "metadata": {},
   "outputs": [],
   "source": [
    "sym = SpacegroupAnalyzer(structure).get_symmetry_operations()\n",
    "#Symétries choisies\n",
    "S1 = sym[1]\n",
    "S2 = sym[3]\n",
    "S3 = sym[5]\n",
    "\n",
    "#Atomes choisis\n",
    "Cs = [1, 1, 1]\n",
    "Tm = [0.5, 0.5, 0.5]\n",
    "S = [0.22645, 0.22645, 0.22645]\n",
    "\n",
    "#Application des symétries \n",
    "Cs_S = S1.operate(Cs)\n",
    "Tm_S = S2.operate(Tm)\n",
    "S_S = S3.operate(S)\n"
   ]
  },
  {
   "cell_type": "code",
   "execution_count": 88,
   "id": "sapphire-blowing",
   "metadata": {},
   "outputs": [
    {
     "name": "stdout",
     "output_type": "stream",
     "text": [
      "Opération de symétrie 1 : \n",
      "\n",
      "L'atome de départ est le Cs et a comme coordonnées : [1, 1, 1] \n",
      "\n",
      "On lui applique la symétrie d'inversion 1barre: Rot:\n",
      "[[-1.  0.  0.]\n",
      " [ 0. -1.  0.]\n",
      " [ 0.  0. -1.]]\n",
      "tau\n",
      "[0. 0. 0.] \n",
      "\n",
      "L'atome d'arrive a comme coordonnées : [-1. -1. -1.] \n",
      "\n"
     ]
    },
    {
     "data": {
      "application/vnd.jupyter.widget-view+json": {
       "model_id": "2191ceb146bc4762a1623722760981be",
       "version_major": 2,
       "version_minor": 0
      },
      "text/plain": [
       "JsmolView(layout=Layout(align_self='stretch', height='400px'))"
      ]
     },
     "metadata": {},
     "output_type": "display_data"
    }
   ],
   "source": [
    "print(\"Opération de symétrie 1 : \\n\")\n",
    "print(\"L'atome de départ est le Cs et a comme coordonnées :\", Cs, \"\\n\")\n",
    "print(\"On lui applique la symétrie d'inversion 1barre:\", S1, \"\\n\")\n",
    "print(\"L'atome d'arrive a comme coordonnées :\", Cs_S, \"\\n\")\n",
    "v1 = quick_view(structure,supercell= [1,1,1])\n",
    "display(v1)\n",
    "v1.script(\"draw symop 2 {atomno=4}\")"
   ]
  },
  {
   "cell_type": "code",
   "execution_count": 89,
   "id": "signal-relations",
   "metadata": {},
   "outputs": [
    {
     "name": "stdout",
     "output_type": "stream",
     "text": [
      "Opération de symétrie 2 : \n",
      "\n",
      "L'atome de départ est le Tm et a comme coordonnées : [0.5, 0.5, 0.5] \n",
      "\n",
      "On lui applique la symétrie qu'est la roto-inversion: Rot:\n",
      "[[ 0.  0. -1.]\n",
      " [-1.  0.  0.]\n",
      " [ 0. -1.  0.]]\n",
      "tau\n",
      "[0. 0. 0.] \n",
      "\n",
      "L'atome d'arrive a comme coordonnées : [-0.5 -0.5 -0.5] \n",
      "\n"
     ]
    },
    {
     "data": {
      "application/vnd.jupyter.widget-view+json": {
       "model_id": "8a47b7ffe0bb4739ad026250830669f0",
       "version_major": 2,
       "version_minor": 0
      },
      "text/plain": [
       "JsmolView(layout=Layout(align_self='stretch', height='400px'))"
      ]
     },
     "metadata": {},
     "output_type": "display_data"
    }
   ],
   "source": [
    "print(\"Opération de symétrie 2 : \\n\")\n",
    "print(\"L'atome de départ est le Tm et a comme coordonnées :\", Tm, \"\\n\")\n",
    "print(\"On lui applique la symétrie qu'est la roto-inversion:\", S2, \"\\n\")\n",
    "print(\"L'atome d'arrive a comme coordonnées :\", Tm_S, \"\\n\")\n",
    "v2 = quick_view(structure,supercell= [1,1,1])\n",
    "display(v2)\n",
    "v2.script(\"draw symop 4 {atomno=2}\")"
   ]
  },
  {
   "cell_type": "code",
   "execution_count": 90,
   "id": "ignored-parliament",
   "metadata": {},
   "outputs": [
    {
     "name": "stdout",
     "output_type": "stream",
     "text": [
      "Opération de symétrie 3 : \n",
      "\n",
      "L'atome de départ est le Cs et a comme coordonnées : [0.22645, 0.22645, 0.22645] \n",
      "\n",
      "On lui applique la symétrie qu'est la rotoinversion: Rot:\n",
      "[[ 0. -1.  0.]\n",
      " [ 0.  0. -1.]\n",
      " [-1.  0.  0.]]\n",
      "tau\n",
      "[0. 0. 0.] \n",
      "\n",
      "L'atome d'arrive a comme coordonnées : [-0.22645 -0.22645 -0.22645] \n",
      "\n"
     ]
    },
    {
     "data": {
      "application/vnd.jupyter.widget-view+json": {
       "model_id": "85fdf6f657f841158662cff096015829",
       "version_major": 2,
       "version_minor": 0
      },
      "text/plain": [
       "JsmolView(layout=Layout(align_self='stretch', height='400px'))"
      ]
     },
     "metadata": {},
     "output_type": "display_data"
    }
   ],
   "source": [
    "print(\"Opération de symétrie 3 : \\n\")\n",
    "print(\"L'atome de départ est le Cs et a comme coordonnées :\", S, \"\\n\")\n",
    "print(\"On lui applique la symétrie qu'est la rotoinversion:\", S3, \"\\n\")\n",
    "print(\"L'atome d'arrive a comme coordonnées :\", S_S, \"\\n\")\n",
    "v3 = quick_view(structure,supercell= [1,1,1])\n",
    "display(v3)\n",
    "v3.script(\"draw symop 6 {atomno=3}\")"
   ]
  },
  {
   "cell_type": "code",
   "execution_count": null,
   "id": "fundamental-theta",
   "metadata": {},
   "outputs": [],
   "source": []
  },
  {
   "cell_type": "code",
   "execution_count": null,
   "id": "sublime-inventory",
   "metadata": {},
   "outputs": [],
   "source": []
  }
 ],
 "metadata": {
  "kernelspec": {
   "display_name": "Python 3",
   "language": "python",
   "name": "python3"
  },
  "language_info": {
   "codemirror_mode": {
    "name": "ipython",
    "version": 3
   },
   "file_extension": ".py",
   "mimetype": "text/x-python",
   "name": "python",
   "nbconvert_exporter": "python",
   "pygments_lexer": "ipython3",
   "version": "3.6.8"
  }
 },
 "nbformat": 4,
 "nbformat_minor": 5
}
